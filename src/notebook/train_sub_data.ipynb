{
 "cells": [
  {
   "cell_type": "code",
   "execution_count": 2,
   "metadata": {},
   "outputs": [
    {
     "name": "stdout",
     "output_type": "stream",
     "text": [
      "1_GSE150430_B cell [BTC000020]\n",
      "get data\n",
      "get gene ontology structer\n",
      "(1800, 18763)\n"
     ]
    }
   ],
   "source": [
    "import sys\n",
    "sys.path.append('../python')\n",
    "from load_generate_data import load_generate_data\n",
    "from parse_go_tree import parese_go_tree\n",
    "import numpy as np\n",
    "from env import *\n",
    "import csv\n",
    "import tensorflow as tf\n",
    "from sklearn import preprocessing\n",
    "from sklearn import tree\n",
    "from sklearn.tree import DecisionTreeClassifier, plot_tree\n",
    "import matplotlib.pyplot as plt\n",
    "from sklearn.cluster import KMeans\n",
    "from collections import Counter\n",
    "import graphviz \n",
    "from load_generate_data import *\n",
    "from random import shuffle"
   ]
  },
  {
   "cell_type": "code",
   "execution_count": 102,
   "metadata": {},
   "outputs": [
    {
     "name": "stdout",
     "output_type": "stream",
     "text": [
      "5938\n"
     ]
    }
   ],
   "source": [
    "def get_sub_matrix_cell_type(mt, cell_type_name, barcodes):\n",
    "    cell_types = np.array([name.split(']')[0].split('[')[-1] for name in barcodes])\n",
    "    indices = np.where(cell_types == cell_type_name)[0]\n",
    "    sub_mt = mt[indices, :]\n",
    "    pct = sum(sub_mt > 0.5, 1) / sub_mt.shape[0]\n",
    "    return np.where(pct >= 0.5)[0]\n",
    "\n",
    "def get_valid_col(mt):\n",
    "    pct = sum(mt > 0.5, 1) / mt.shape[0]\n",
    "    return np.where(pct <= 0.5)[0]\n",
    "\n",
    "def select_col(X, Y_origin):\n",
    "    cell_types = list(map(lambda x: x.split(']')[0].split('[')[-1], Y_origin))\n",
    "    cell_types = np.unique(cell_types)\n",
    "    valid_col = get_valid_col(X)\n",
    "    ans = set()\n",
    "    for cell_type in cell_types:\n",
    "        cell_type_main = get_sub_matrix_cell_type(X, cell_type, Y_origin)\n",
    "        valid = list(set(valid_col) & set(cell_type_main))\n",
    "        ans = ans | set(valid)\n",
    "    return np.array(list(ans))\n",
    "    \n",
    "print(len(selected_col))"
   ]
  },
  {
   "cell_type": "code",
   "execution_count": 51,
   "metadata": {},
   "outputs": [
    {
     "name": "stdout",
     "output_type": "stream",
     "text": [
      "(500, 18763)\n",
      "(1800, 18763)\n",
      "(1800, 18763)\n"
     ]
    }
   ],
   "source": [
    "def get_all_data(list_study_path):\n",
    "    data = None\n",
    "    have_data = False\n",
    "    barcodes = []\n",
    "    for study in list_study_path:\n",
    "        mt, barcode_study = load_generate_data(study)\n",
    "        print(mt.shape)\n",
    "        if have_data == False:\n",
    "            have_data = True\n",
    "            data = mt\n",
    "        else:\n",
    "            data = np.concatenate((data, mt), axis=0)\n",
    "        barcodes.extend(barcode_study)\n",
    "    data = np.array(data)\n",
    "\n",
    "    barcode_origin = np.array([('_').join(x.split('_')[1:]) for x in barcodes])\n",
    "    barcodes = [x.split('_')[-1] for x in barcodes]\n",
    "    le = preprocessing.LabelEncoder()                                                                                                                                         \n",
    "    le.fit(barcodes)                                                                                                                                                        \n",
    "    barcodes = le.transform(barcodes)\n",
    "    return data, barcodes, barcode_origin\n",
    "\n",
    "def split_data(X, Y, Y_origin):\n",
    "    number_class = max(Y)\n",
    "    print(\"Number of class is\", Y)\n",
    "    print(Counter(list(map(lambda x: x.split(']')[0].split('[')[-1], Y_origin))))\n",
    "    train_indices = set()\n",
    "    test_indices = set()\n",
    "    for i in range(number_class):\n",
    "        pos = np.where(Y == i)[0]\n",
    "        # Random arr\n",
    "        shuffle(pos)\n",
    "        divide_position = int(len(pos) * 0.7)\n",
    "        train_indices = train_indices | pos[0:divide_postion]\n",
    "        test_indices = test_indices | pos[divide_postion:]\n",
    "    return np.array(list(train_indices)), np.array(list(test_indices))\n",
    "\n",
    "list_study_path =   ['/home/tung/RepresentData/Transform/GSE110686',\n",
    "                    '/home/tung/RepresentData/Transform/GSE124310',\n",
    "                    '/home/tung/RepresentData/Transform/GSE150430']\n",
    "\n",
    "X, Y, Y_origin = get_all_data(list_study_path)\n",
    "train_indices, test_indices = split_data(X, Y, Y_origin)"
   ]
  },
  {
   "cell_type": "code",
   "execution_count": null,
   "metadata": {},
   "outputs": [],
   "source": [
    "clf = tree.DecisionTreeClassifier(max_depth=20, max_leaf_nodes= max(Y) * 2)\n",
    "clf = clf.fit(X[train_indices, :], Y[train_indices])\n",
    "print(\"Score :\", clf.score(X[train_indices, :], Y[train_indices]))\n",
    "print(\"Test :\", clf.score(X[test_indices, :], Y[test_indices]))\n"
   ]
  },
  {
   "cell_type": "code",
   "execution_count": 52,
   "metadata": {},
   "outputs": [
    {
     "name": "stdout",
     "output_type": "stream",
     "text": [
      "[ 1  1  1 ... 20 20 20]\n"
     ]
    }
   ],
   "source": [
    "dot_data = tree.export_graphviz(clf, out_file=None) \n",
    "graph = graphviz.Source(dot_data) \n",
    "graph.render(\"t\") \n",
    "# kmeans = KMeans(n_clusters=50, random_state=0).fit(data)\n",
    "# group = np.array(kmeans.labels_)\n",
    "\n",
    "# for i in range(max(group) + 1):\n",
    "#     list_index = np.where(group == i)\n",
    "#     print(Counter(barcode_origin[list_index]))\n",
    "#     print(\"########################################\")\n",
    "#     print(\"########################################\")\n",
    "#     print(\"########################################\")\n",
    "#     print(\"########################################\")"
   ]
  }
 ],
 "metadata": {
  "kernelspec": {
   "display_name": "cellSearch",
   "language": "python",
   "name": "cellsearch"
  },
  "language_info": {
   "codemirror_mode": {
    "name": "ipython",
    "version": 3
   },
   "file_extension": ".py",
   "mimetype": "text/x-python",
   "name": "python",
   "nbconvert_exporter": "python",
   "pygments_lexer": "ipython3",
   "version": "3.6.12"
  }
 },
 "nbformat": 4,
 "nbformat_minor": 4
}
